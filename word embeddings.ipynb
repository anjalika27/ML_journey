{
 "cells": [
  {
   "cell_type": "code",
   "execution_count": 1,
   "id": "098ff110",
   "metadata": {},
   "outputs": [
    {
     "name": "stdout",
     "output_type": "stream",
     "text": [
      "2.13.0\n"
     ]
    }
   ],
   "source": [
    "import tensorflow as tf\n",
    "print(tf.__version__)"
   ]
  },
  {
   "cell_type": "code",
   "execution_count": 2,
   "id": "a3c5463f",
   "metadata": {},
   "outputs": [],
   "source": [
    "from tensorflow import keras\n",
    "from keras.preprocessing.text import one_hot"
   ]
  },
  {
   "cell_type": "code",
   "execution_count": 3,
   "id": "c67fe242",
   "metadata": {},
   "outputs": [
    {
     "data": {
      "text/plain": [
       "['the glass of milk',\n",
       " 'the glass of juice',\n",
       " 'the cup of tea',\n",
       " 'I am a good boy',\n",
       " 'I am a good developer',\n",
       " 'understand the meaning of words',\n",
       " 'your videos are good']"
      ]
     },
     "execution_count": 3,
     "metadata": {},
     "output_type": "execute_result"
    }
   ],
   "source": [
    "sentences=['the glass of milk',\n",
    "     'the glass of juice',\n",
    "     'the cup of tea',\n",
    "    'I am a good boy',\n",
    "     'I am a good developer',\n",
    "     'understand the meaning of words',\n",
    "     'your videos are good']\n",
    "sentences"
   ]
  },
  {
   "cell_type": "code",
   "execution_count": 6,
   "id": "4c711b0e",
   "metadata": {},
   "outputs": [
    {
     "data": {
      "text/plain": [
       "[[35, 61, 13, 56],\n",
       " [35, 61, 13, 74],\n",
       " [35, 76, 13, 65],\n",
       " [94, 10, 92, 33, 41],\n",
       " [94, 10, 92, 33, 7],\n",
       " [8, 35, 35, 13, 92],\n",
       " [15, 74, 81, 33]]"
      ]
     },
     "execution_count": 6,
     "metadata": {},
     "output_type": "execute_result"
    }
   ],
   "source": [
    "one_hot_sent=[one_hot(words,100) for words in sentences]  #vocab_size=500\n",
    "one_hot_sent"
   ]
  },
  {
   "cell_type": "markdown",
   "id": "984069e2",
   "metadata": {},
   "source": [
    "The sentences size should be same - pre and post padding"
   ]
  },
  {
   "cell_type": "code",
   "execution_count": 7,
   "id": "1b336819",
   "metadata": {},
   "outputs": [],
   "source": [
    "from keras.layers import Embedding\n",
    "from keras.preprocessing.sequence import pad_sequences\n",
    "from keras.models import Sequential"
   ]
  },
  {
   "cell_type": "code",
   "execution_count": 9,
   "id": "327bfed6",
   "metadata": {},
   "outputs": [
    {
     "data": {
      "text/plain": [
       "array([[ 0,  0,  0, 35, 61, 13, 56],\n",
       "       [ 0,  0,  0, 35, 61, 13, 74],\n",
       "       [ 0,  0,  0, 35, 76, 13, 65],\n",
       "       [ 0,  0, 94, 10, 92, 33, 41],\n",
       "       [ 0,  0, 94, 10, 92, 33,  7],\n",
       "       [ 0,  0,  8, 35, 35, 13, 92],\n",
       "       [ 0,  0,  0, 15, 74, 81, 33]])"
      ]
     },
     "execution_count": 9,
     "metadata": {},
     "output_type": "execute_result"
    }
   ],
   "source": [
    "sent_len=7\n",
    "padded_sent=pad_sequences(one_hot_sent,maxlen=sent_len,padding='pre')\n",
    "padded_sent"
   ]
  },
  {
   "cell_type": "markdown",
   "id": "c405a287",
   "metadata": {},
   "source": [
    "Now we can train the model easily as all the vectors have same length for input"
   ]
  },
  {
   "cell_type": "code",
   "execution_count": 11,
   "id": "574085e9",
   "metadata": {},
   "outputs": [],
   "source": [
    "model=Sequential()\n",
    "model.add(Embedding(100,10,input_length=7)) # 100=vocab_size,10=feature vector for each word\n",
    "model.compile('adam','mse')"
   ]
  },
  {
   "cell_type": "code",
   "execution_count": 12,
   "id": "c0cab160",
   "metadata": {},
   "outputs": [
    {
     "name": "stdout",
     "output_type": "stream",
     "text": [
      "1/1 [==============================] - 0s 287ms/step\n"
     ]
    },
    {
     "data": {
      "text/plain": [
       "array([[-0.01845974, -0.04445244,  0.03942803,  0.02663283,  0.03062866,\n",
       "         0.04719808, -0.00407671, -0.01513702, -0.03800976, -0.00517925],\n",
       "       [-0.01845974, -0.04445244,  0.03942803,  0.02663283,  0.03062866,\n",
       "         0.04719808, -0.00407671, -0.01513702, -0.03800976, -0.00517925],\n",
       "       [-0.01845974, -0.04445244,  0.03942803,  0.02663283,  0.03062866,\n",
       "         0.04719808, -0.00407671, -0.01513702, -0.03800976, -0.00517925],\n",
       "       [ 0.01974975,  0.0288319 , -0.01527345,  0.02305857,  0.00426358,\n",
       "        -0.02979976,  0.0311547 , -0.00693415,  0.0365268 , -0.0247591 ],\n",
       "       [ 0.04848782, -0.01167715,  0.02198659,  0.03811442, -0.04749821,\n",
       "        -0.02754635, -0.03884983, -0.01239461, -0.02016338, -0.01205739],\n",
       "       [ 0.01011059,  0.0230106 , -0.03193035,  0.04664553,  0.00344453,\n",
       "        -0.03863801,  0.0273044 ,  0.01459116, -0.00122266, -0.00220348],\n",
       "       [ 0.02479259,  0.03920031, -0.04608644, -0.02258456,  0.01177537,\n",
       "        -0.04816023,  0.02033586,  0.0459901 , -0.01553617, -0.03239691]],\n",
       "      dtype=float32)"
      ]
     },
     "execution_count": 12,
     "metadata": {},
     "output_type": "execute_result"
    }
   ],
   "source": [
    "model.predict(padded_sent[0])"
   ]
  },
  {
   "cell_type": "code",
   "execution_count": 13,
   "id": "b98982e1",
   "metadata": {},
   "outputs": [
    {
     "name": "stdout",
     "output_type": "stream",
     "text": [
      "Model: \"sequential_1\"\n",
      "_________________________________________________________________\n",
      " Layer (type)                Output Shape              Param #   \n",
      "=================================================================\n",
      " embedding (Embedding)       (None, 7, 10)             1000      \n",
      "                                                                 \n",
      "=================================================================\n",
      "Total params: 1000 (3.91 KB)\n",
      "Trainable params: 1000 (3.91 KB)\n",
      "Non-trainable params: 0 (0.00 Byte)\n",
      "_________________________________________________________________\n"
     ]
    }
   ],
   "source": [
    "model.summary()"
   ]
  },
  {
   "cell_type": "code",
   "execution_count": null,
   "id": "67943ce5",
   "metadata": {},
   "outputs": [],
   "source": []
  }
 ],
 "metadata": {
  "kernelspec": {
   "display_name": "Python 3 (ipykernel)",
   "language": "python",
   "name": "python3"
  },
  "language_info": {
   "codemirror_mode": {
    "name": "ipython",
    "version": 3
   },
   "file_extension": ".py",
   "mimetype": "text/x-python",
   "name": "python",
   "nbconvert_exporter": "python",
   "pygments_lexer": "ipython3",
   "version": "3.9.13"
  }
 },
 "nbformat": 4,
 "nbformat_minor": 5
}
